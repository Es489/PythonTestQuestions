{
 "cells": [
  {
   "cell_type": "markdown",
   "source": [
    "## Question 1\n",
    "\n",
    "Write variables and assign values that will represent students info: \n",
    ">Создайте переменные и задайте им значения\n",
    "\n",
    "    1) Student's name # Имя студента\n",
    "    2) Student's surname # Фамилию студента\n",
    "    3) Student's age # Возраст студента\n",
    "    4) Student's name of the course that he/she studies # Название курса на котором учится студент\n",
    "    5) Student's grades that correspond to subjects # Список оценок студента и соответсвующие предметы которые он изучает\n",
    "    6) Student's list of hobbies # Список хобби студента\n",
    "\n"
   ],
   "metadata": {
    "collapsed": false
   }
  },
  {
   "cell_type": "code",
   "execution_count": null,
   "outputs": [],
   "source": [],
   "metadata": {
    "collapsed": false,
    "pycharm": {
     "name": "#%%\n"
    }
   }
  },
  {
   "cell_type": "markdown",
   "source": [
    "## Question 2\n",
    "\n",
    "From previous Question 1 \n",
    ">Использую предыдущее задание\n",
    "\n",
    "    1) Print student's name and surname \n",
    ">Выведите имя и фамилию студента\n",
    "\n",
    "    2) Print subject and grades on separate lines, i.e 'Data structures 48' \n",
    "> Выведите каждый предмет и оценку по этому предмету на отдельную строчку \n",
    "\n",
    "    3) Print name and hobbies on separate lines, i.e 'Jane loves volleyball'\n",
    "> Выведите каждое хобби из списка студентак так чтобы получилось \"Женя любит воллейбол\"\n",
    "\n",
    "\n"
   ],
   "metadata": {
    "collapsed": false
   }
  },
  {
   "cell_type": "code",
   "execution_count": null,
   "outputs": [],
   "source": [],
   "metadata": {
    "collapsed": false,
    "pycharm": {
     "name": "#%%\n"
    }
   }
  },
  {
   "cell_type": "markdown",
   "source": [
    "## Question 3\n",
    "\n",
    "Jane has a math problem where she needs to calculate squares of some numbers.\n",
    ">Жене дали задачу на вычисления квадратов чисел из списка\n",
    "\n",
    "She has a list of integers and she needs to change initial numbers in the list to their results\n",
    "> Ей придоставили список чисел который нужно преобразовать и попросили вывести изменненый список с числами\n",
    "\n",
    "She also needs to print initial value and its square i.e '2 squared is 4'\n",
    ">Ее так же попросили вывести изначальное число и результат возвидения в квадрат таким образом \"2 в квадрате это 4\"\n",
    "\n",
    "\n"
   ],
   "metadata": {
    "collapsed": false
   }
  },
  {
   "cell_type": "code",
   "execution_count": null,
   "outputs": [],
   "source": [
    "numbers = [1, 2, 3, 4, 5, 6, 7, 8]"
   ],
   "metadata": {
    "collapsed": false,
    "pycharm": {
     "name": "#%%\n"
    }
   }
  },
  {
   "cell_type": "markdown",
   "source": [
    "## Question 4\n",
    "Children love to draw different shapes. With some help they need to draw a rectangle and triangle out of '*'\n",
    ">Дети очень любят рисовать разные фигуры. Помогите им нарисовать прямоугольник и треугольник из звездочек *.\n",
    ">Нарисуйте треугольники и прямоугольники разных размеров по примерам показанным ниже\n",
    "    \n",
    "    1) Try to create  rectangles of different sizes i.e\n",
    "    \n",
    "    height = 4\n",
    "    width = 3\n",
    "        ***\n",
    "        ***\n",
    "        ***\n",
    "        ***\n",
    "\n",
    "    2) Try to create triangle of different heigth\n",
    "    height = 5\n",
    "        *\n",
    "       ***\n",
    "      *****\n",
    "     *******\n",
    "    *********\n"
   ],
   "metadata": {
    "collapsed": false
   }
  },
  {
   "cell_type": "code",
   "execution_count": null,
   "outputs": [],
   "source": [],
   "metadata": {
    "collapsed": false,
    "pycharm": {
     "name": "#%%\n"
    }
   }
  },
  {
   "cell_type": "markdown",
   "source": [
    "## Question 5\n",
    "\n",
    "A company has a record of employees names and their salaries\n",
    ">В компании есть записи имен рабочих и их зарплат\n",
    "\n",
    "1) Create a structure to hold employees names and their salary\n",
    ">Создайте структуру данных в которой будет содержаться имя сотрудника и его зарплата\n",
    "\n",
    "2) Print employees names and their salaries whose salary is less than:\n",
    ">Выведите имена сотрудников у которых:\n",
    "\n",
    "    1) $500    зарплата в $500\n",
    "    2) $1000   зарплата в $1000\n",
    "    3) $5000   зарплата в $5000\n",
    "\n",
    "3) Find an average of all salaries\n",
    ">Найдите среднее значение зарплат сотрудников"
   ],
   "metadata": {
    "collapsed": false
   }
  },
  {
   "cell_type": "code",
   "execution_count": null,
   "outputs": [],
   "source": [
    "\n"
   ],
   "metadata": {
    "collapsed": false,
    "pycharm": {
     "name": "#%%\n"
    }
   }
  },
  {
   "cell_type": "markdown",
   "source": [
    "## Question 6\n",
    "\n",
    "In call center there are 2 employees who make n calls.\n",
    "> В колл центре работают 2 сотрудника\n",
    "\n",
    "Their boss monitor their progression every 2 hours and depends on their success assign them bonuses to their salary. \n",
    "> Их начальник проверяет их работу каждые 2 часа и в зависимости сколько звонков они получили им начисляется премия\n",
    "\n",
    "If after 2 hours they made: \n",
    "> Если за 2 час они совершили: \n",
    "\n",
    "    1) More than 50 calls they get $\\$100 $ by the end of the day\n",
    "> более 50 звонков до им дается бонус в $\\$100 $\n",
    "\n",
    "    2) More than 100 calls they get $\\$500$ by the end of the day\n",
    "> более 100 звонков до им дается бонус в $\\$500 $ \n",
    "\n",
    "    3) Less than 20 calls they are deducted $\\$50 $\n",
    "> за менее чем 20 звонков они получают штраф в $\\$50 $\n",
    "\n",
    "1) How much money each of the employees gets by the end of working day 12 hours?\n",
    "> Сколько у каждого сотрудника начислится премия в конце рабочего 12ч дня \n",
    "\n",
    "2) How many days they need to work to earn $\\$500, \\$1000 $?\n",
    ">Сколько дней/часов им нужно отрабаотать чтобы у каждого было по +$500 ,+$1000\n",
    "\n",
    "You need to use $random()*100 $ simulate random number of calls for each employee i.e Sara=$random()*100$\n",
    "> Используйте рандомное число звонков для каждого работника random()*100 "
   ],
   "metadata": {
    "collapsed": false
   }
  },
  {
   "cell_type": "code",
   "execution_count": null,
   "outputs": [],
   "source": [],
   "metadata": {
    "collapsed": false,
    "pycharm": {
     "name": "#%%\n"
    }
   }
  },
  {
   "cell_type": "markdown",
   "source": [
    "## Question 7\n",
    "\n",
    "Young banker tries to optimize his profit by buying company shares.\n",
    "> Юнный инвестор хочет оптимизировать свой доход и покупает акции компаний\n",
    "\n",
    "Every month he gets:\n",
    "> Каждый месяц он зарабатывает\n",
    "\n",
    "    1) 5% from share1       5% с первого пакета акций\n",
    "    2) 0.7% from share2     0.7% со второго пакета акций\n",
    "    3) 30% from share3      30% с третьего пакета акций\n",
    "    4) 8.5% from share4     8.5% с четвертого пакета акций\n",
    "\n",
    "1) Determine when he gets $\\$10000,  \\$100000,  \\$3000000 $ if we take into account that he doesnt reinvest his profits.\n",
    "> Узнайет когда он заработает $\\$10000,  \\$100000,  \\$3000000 $ если он не реинвестирует заработанный процент обратно в пакет акций\n",
    "\n",
    "2) Determine when he gets $\\$10000,  \\$100000,  \\$3000000 $ if we take into account that he reinvest his profits.\n",
    "> Узнайет когда он заработает $\\$10000,  \\$100000,  \\$3000000 $ если он  реинвестирует заработанный процент обратно в пакет акций\n"
   ],
   "metadata": {
    "collapsed": false
   }
  },
  {
   "cell_type": "code",
   "execution_count": null,
   "outputs": [],
   "source": [
    "share1 = 100\n",
    "share2 = 1050\n",
    "share3 = 50\n",
    "share4 = 300\n"
   ],
   "metadata": {
    "collapsed": false,
    "pycharm": {
     "name": "#%%\n"
    }
   }
  },
  {
   "cell_type": "markdown",
   "source": [
    "## Question 8\n",
    "Given a square matrix, calculate the absolute difference between the sums of its diagonals.\n",
    ">Расчитайте разницу в суммах диагоналей в 2д матрице\n",
    "\n",
    "\n",
    "\n"
   ],
   "metadata": {
    "collapsed": false
   }
  },
  {
   "cell_type": "code",
   "execution_count": null,
   "outputs": [],
   "source": [
    "a = [[1, 2, 3],\n",
    "     [4, 5, 6],\n",
    "     [7, 8, 9]]\n",
    "\n",
    "b = [[11, 13, 18, 24],\n",
    "     [-11, 1, 23, 40],\n",
    "     [10, 18, 5, 24],\n",
    "     [-16, 0, 26, 4]]"
   ],
   "metadata": {
    "collapsed": false,
    "pycharm": {
     "name": "#%%\n"
    }
   }
  },
  {
   "cell_type": "markdown",
   "source": [
    "## Question 9\n",
    "\n",
    "IT company is developing a new logging system for bank departments.\n",
    ">IT компания разрабатывает регистрационную систему для банковских департаментов\n",
    "\n",
    "Each user who logs in the system should have its own username,password and department name in their account.\n",
    ">В каждом аккаунте работника долно указывать его user_name, password и название департамента\n",
    "\n",
    "You need to develop a system that manages users in bank departments:\n",
    ">Вам нужно разработать систему которая управляет сотрудниками в департаментах банка\n",
    "\n",
    "1) Existing users have to be verified against database records. You need to check by user name and department!\n",
    ">Существующие сотрудники должны проверяться по записям из базы данных по user_name и названию департамента\n",
    " \n",
    "2) New users have to be added to existing database.\n",
    ">Новые сотрудники должны быть записаны в базу данных\n",
    "\n",
    "3) User should be able to change his password.\n",
    ">Сотрудники должны иметь возможность изменить пароль \n",
    "\n",
    "4) If user is fired he has to be identified as fired in database.\n",
    ">Если сотрудник был уволен то в базе данных это должно отображаться\n",
    "\n",
    "Используйте user_database.json"
   ],
   "metadata": {
    "collapsed": false
   }
  },
  {
   "cell_type": "code",
   "execution_count": null,
   "outputs": [],
   "source": [],
   "metadata": {
    "collapsed": false,
    "pycharm": {
     "name": "#%%\n"
    }
   }
  },
  {
   "cell_type": "markdown",
   "source": [
    "## Question 10\n",
    "\n",
    "Zoo has a record system for all of the animals. They log in new species once in a while, so they created a template that they can fill in and customize to create specific characteristics of new animal.\n",
    "> В зоопарке есть система регистрации новых животных. Работники создали изначальный макет животного Animal который можно использовать как заготовку для нового вида поступаемых животных \n",
    "\n",
    "You need to add to create and add to database a couple of animals of your choice.\n",
    ">Вам нужно создать и добавить новые виды животных в базу данных \n",
    "\n",
    "1) Each animal should have a couple of distinct features apart from template's ones, a name and a description.\n",
    ">Каждый вид должен иметь свои отличные характеристики, имя и описание животного\n",
    "\n",
    "2) Each animal should be able to present themselves by telling what type of animal it is and what it can do.\n",
    ">Каждый вид должен выводить информацию о себе, имя, описание и список действий который он умеет совершать\n"
   ],
   "metadata": {
    "collapsed": false
   }
  },
  {
   "cell_type": "code",
   "execution_count": null,
   "outputs": [],
   "source": [
    "class Animal:\n",
    "    def __init__(self, name, description):\n",
    "        self.name = name\n",
    "        self.description = description\n",
    "        self.id_tag = '000001'\n",
    "\n",
    "    @staticmethod\n",
    "    def can_breath():\n",
    "        return True\n",
    "\n",
    "    @staticmethod\n",
    "    def eat():\n",
    "        print(\"I love eating insects\")"
   ],
   "metadata": {
    "collapsed": false,
    "pycharm": {
     "name": "#%%\n"
    }
   }
  },
  {
   "cell_type": "markdown",
   "source": [
    "## Question 11\n",
    "\n",
    "Cемья Анатолия имеет довольно странную структуру. У каждого мужчины в его семье в начале рождается мальчик, а затем девочка. \n",
    "У каждой женщины - наоборот, сначала девочка, затем мальчик.\n",
    "Зная это Анатолий хочет научиться предсказывать пол К-го ребенка в N-ом поколении.\n",
    "Напишите соответсвующую программу которая эффективно работает с $1<=K<=min(10^{15}, 2^{(n-1)})$ и $1<=N<=10000$."
   ],
   "metadata": {
    "collapsed": false
   }
  },
  {
   "cell_type": "code",
   "execution_count": null,
   "outputs": [],
   "source": [
    "\n"
   ],
   "metadata": {
    "collapsed": false,
    "pycharm": {
     "name": "#%%\n"
    }
   }
  }
 ],
 "metadata": {
  "kernelspec": {
   "display_name": "Python 3",
   "language": "python",
   "name": "python3"
  },
  "language_info": {
   "codemirror_mode": {
    "name": "ipython",
    "version": 2
   },
   "file_extension": ".py",
   "mimetype": "text/x-python",
   "name": "python",
   "nbconvert_exporter": "python",
   "pygments_lexer": "ipython2",
   "version": "2.7.6"
  },
  "pycharm": {
   "stem_cell": {
    "cell_type": "raw",
    "source": [],
    "metadata": {
     "collapsed": false
    }
   }
  }
 },
 "nbformat": 4,
 "nbformat_minor": 0
}